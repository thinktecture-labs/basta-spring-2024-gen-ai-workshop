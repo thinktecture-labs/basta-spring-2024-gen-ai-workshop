{
 "cells": [
  {
   "cell_type": "markdown",
   "metadata": {},
   "source": [
    "# Compare embeddings performance\n",
    "\n",
    "We use different approaches to create embeddings from the same texts and compare their performance.\n",
    "\n",
    "## Configuration:\n",
    "\n",
    "Please select the model you want to use for the transformations."
   ]
  },
  {
   "cell_type": "code",
   "execution_count": null,
   "metadata": {
    "dotnet_interactive": {
     "language": "csharp"
    },
    "polyglot_notebook": {
     "kernelName": "csharp"
    }
   },
   "outputs": [],
   "source": [
    "llm_source = \"openai\" # openai or hf for huggingface\n",
    "embedding_source = \"openai\" # openai or hf for huggingface\n",
    "\n",
    "llm_model = \"gpt-3.5-turbo\"\n",
    "llm_model = \"gpt-4-1106-preview\"\n",
    "temperature = 0\n",
    "\n",
    "embeddings_model = \"text-embedding-ada-002\"\n",
    "\n",
    "markdown_documents_path = \"C:\\\\Dev\\\\tt\\\\tt-readme\"\n",
    "\n",
    "use_cached_documents = True\n",
    "use_cached_transforms = True\n",
    "reindex_documents = True"
   ]
  },
  {
   "cell_type": "markdown",
   "metadata": {},
   "source": [
    "## Test different approaches of indexing\n",
    "\n",
    "This will\n",
    "- create a question for each document,\n",
    "- create an answer for each document and\n",
    "- summarize each document"
   ]
  },
  {
   "cell_type": "markdown",
   "metadata": {},
   "source": [
    "## Load and split markdown contents of the TT Readme\n"
   ]
  },
  {
   "cell_type": "code",
   "execution_count": null,
   "metadata": {
    "dotnet_interactive": {
     "language": "csharp"
    },
    "polyglot_notebook": {
     "kernelName": "csharp"
    }
   },
   "outputs": [],
   "source": [
    "if use_cached_documents:\n",
    "    print(\"Skipping loading documents from markdown files\")\n",
    "else:\n",
    "\n",
    "    from langchain.document_loaders import DirectoryLoader, TextLoader\n",
    "    from langchain.text_splitter import MarkdownHeaderTextSplitter\n",
    "\n",
    "    readme_documents = DirectoryLoader(\n",
    "        markdown_documents_path,\n",
    "        glob=\"**/*.md\",\n",
    "        loader_cls=TextLoader\n",
    "        ).load()\n",
    "\n",
    "    headers_to_split_on = [\n",
    "        (\"#\", \"Header 1\"),\n",
    "        (\"##\", \"Header 2\"),\n",
    "    ]\n",
    "\n",
    "    splitter = MarkdownHeaderTextSplitter(headers_to_split_on)\n",
    "\n",
    "    split_documents = []\n",
    "    for doc in readme_documents:\n",
    "        result = splitter.split_text(doc.page_content)\n",
    "\n",
    "        if isinstance(result, list):\n",
    "            for res in result:\n",
    "                res.metadata.update(doc.metadata)\n",
    "            split_documents.extend(result)\n",
    "        else:\n",
    "            result.metadata.update(doc.metadata)\n",
    "            split_documents.append(result)\n",
    "\n",
    "    # For brevity, reduce amount of entries to a few only\n",
    "    # split_documents = split_documents[50:60]\n",
    "\n",
    "    index  = 1\n",
    "    for doc in split_documents:\n",
    "        doc.metadata[\"index\"] = index\n",
    "        index += 1\n",
    "        doc.metadata[\"original_content\"] = doc.page_content\n",
    "        #print(doc.metadata)\n",
    "        #print(\"\\n\")"
   ]
  },
  {
   "cell_type": "markdown",
   "metadata": {},
   "source": [
    "### Persist the data to files or load cached files"
   ]
  },
  {
   "cell_type": "code",
   "execution_count": null,
   "metadata": {
    "dotnet_interactive": {
     "language": "csharp"
    },
    "polyglot_notebook": {
     "kernelName": "csharp"
    }
   },
   "outputs": [],
   "source": [
    "import pickle\n",
    "\n",
    "if (use_cached_documents):\n",
    "    print(\"Loading documents from file\")\n",
    "    with open(\"cache/split_documents.pickle\", \"rb\") as f:\n",
    "        split_documents = pickle.load(f)\n",
    "else:\n",
    "    print(\"Writing documents to file\")\n",
    "    with open(\"cache/split_documents.pickle\", \"wb\") as f:\n",
    "        pickle.dump(split_documents, f)"
   ]
  },
  {
   "cell_type": "markdown",
   "metadata": {},
   "source": [
    "## Massage content into new embedding documents"
   ]
  },
  {
   "cell_type": "code",
   "execution_count": null,
   "metadata": {
    "dotnet_interactive": {
     "language": "csharp"
    },
    "polyglot_notebook": {
     "kernelName": "csharp"
    }
   },
   "outputs": [],
   "source": [
    "from langchain.chat_models.openai import ChatOpenAI\n",
    "from langchain.chains import LLMChain\n",
    "from langchain.prompts import PromptTemplate\n",
    "\n",
    "llm = ChatOpenAI(model=llm_model, temperature=temperature)\n",
    "\n",
    "def build_chain(prompt):\n",
    "    return LLMChain(llm=llm, prompt=PromptTemplate(input_variables=[\"input\"], template=prompt))\n",
    "\n",
    "question_chain = build_chain(\"Formuliere drei verschiedene deutsche Fragen, die der folgende Text beantwortet: {input}\")\n",
    "answer_chain = build_chain(\"Erkläre in zwei bis drei deutschen Sätzen, was der folgende Text beantwortet: {input}\")\n",
    "summarize_chain = build_chain(\"Erstelle eine kurze deutsche Zusammenfassung des folgenden Textes: {input}\")"
   ]
  },
  {
   "cell_type": "code",
   "execution_count": null,
   "metadata": {
    "dotnet_interactive": {
     "language": "csharp"
    },
    "polyglot_notebook": {
     "kernelName": "csharp"
    }
   },
   "outputs": [],
   "source": [
    "import copy\n",
    "\n",
    "def transform_documents(chain, file):\n",
    "    if use_cached_transforms:\n",
    "        print(f\"Loading cached file {file}\")\n",
    "        with open(f\"cache/{llm_model}_{file}_documents.pickle\", \"rb\") as f:\n",
    "            result = pickle.load(f)\n",
    "        return result\n",
    "    else:\n",
    "        result = copy.deepcopy(split_documents)\n",
    "        for doc in result:\n",
    "            print(f\"Transforming {file} document {doc.metadata['index']} with model {llm_model}\")\n",
    "            doc.metadata[\"original_content\"] = copy.copy(doc.page_content)\n",
    "            doc.page_content = chain.run(doc.page_content)\n",
    "        print(f\"Writing {file} documents from model {llm_model} to file\")\n",
    "        with open(f\"cache/{llm_model}_{file}_documents.pickle\", \"wb\") as f:\n",
    "            pickle.dump(result, f)\n",
    "        return result\n",
    "\n",
    "question_documents = transform_documents(question_chain, \"questions\")\n",
    "answer_documents = transform_documents(answer_chain, \"answers\")\n",
    "summary_documents = transform_documents(summarize_chain, \"summaries\")"
   ]
  },
  {
   "cell_type": "markdown",
   "metadata": {},
   "source": [
    "## Prepare Embeddings model"
   ]
  },
  {
   "cell_type": "code",
   "execution_count": null,
   "metadata": {
    "dotnet_interactive": {
     "language": "csharp"
    },
    "polyglot_notebook": {
     "kernelName": "csharp"
    }
   },
   "outputs": [],
   "source": [
    "from langchain.embeddings.openai import OpenAIEmbeddings\n",
    "\n",
    "embeddings = None\n",
    "\n",
    "if embedding_source == \"openai\":\n",
    "    embeddings = OpenAIEmbeddings(model=embeddings_model)"
   ]
  },
  {
   "cell_type": "markdown",
   "metadata": {},
   "source": [
    "## Prepare store"
   ]
  },
  {
   "cell_type": "code",
   "execution_count": null,
   "metadata": {
    "dotnet_interactive": {
     "language": "csharp"
    },
    "polyglot_notebook": {
     "kernelName": "csharp"
    }
   },
   "outputs": [],
   "source": [
    "from langchain.vectorstores import Qdrant\n",
    "\n",
    "def store(documents, collection_name):\n",
    "    Qdrant.from_documents(\n",
    "        documents,\n",
    "        url=\"http://localhost:6333\",\n",
    "        embedding=embeddings,\n",
    "        collection_name=collection_name,\n",
    "        force_recreate=True,\n",
    "    )\n",
    "\n",
    "pure_collection = f\"{embeddings_model}-{llm_model}-p\"\n",
    "question_collection = f\"{embeddings_model}-{llm_model}-q\"\n",
    "answer_collection = f\"{embeddings_model}-{llm_model}-a\"\n",
    "summary_collection = f\"{embeddings_model}-{llm_model}-s\"\n",
    "\n",
    "collections = [pure_collection, question_collection, answer_collection, summary_collection]"
   ]
  },
  {
   "cell_type": "markdown",
   "metadata": {},
   "source": [
    "## Create embeddings and store them in different collections"
   ]
  },
  {
   "cell_type": "code",
   "execution_count": null,
   "metadata": {
    "dotnet_interactive": {
     "language": "csharp"
    },
    "polyglot_notebook": {
     "kernelName": "csharp"
    }
   },
   "outputs": [],
   "source": [
    "if reindex_documents:\n",
    "    store(split_documents, pure_collection)\n",
    "    store(question_documents, question_collection)\n",
    "    store(answer_documents, answer_collection)\n",
    "    store(summary_documents, summary_collection)"
   ]
  },
  {
   "cell_type": "markdown",
   "metadata": {},
   "source": [
    "## Search with a query in the different indexes"
   ]
  },
  {
   "cell_type": "code",
   "execution_count": null,
   "metadata": {
    "dotnet_interactive": {
     "language": "csharp"
    },
    "polyglot_notebook": {
     "kernelName": "csharp"
    }
   },
   "outputs": [],
   "source": [
    "queries = [\n",
    "    \"Was mache ich, wenn ich meinen letzten Zug verpasst habe?\",\n",
    "    \"Nach wie vielen Jahren kann ich mein Notebook erneuern?\",\n",
    "    \"Was ist MITOD?\",\n",
    "]"
   ]
  },
  {
   "cell_type": "code",
   "execution_count": null,
   "metadata": {
    "dotnet_interactive": {
     "language": "csharp"
    },
    "polyglot_notebook": {
     "kernelName": "csharp"
    }
   },
   "outputs": [],
   "source": [
    "from qdrant_client import QdrantClient\n",
    "\n",
    "client = QdrantClient(\"http://localhost:6333\")\n",
    "\n",
    "def search(collection, query):\n",
    "    return Qdrant(client, collection, embeddings)._similarity_search_with_relevance_scores(query)\n",
    "\n",
    "collections = [pure_collection, question_collection, answer_collection, summary_collection]\n",
    "\n",
    "result_table = []\n",
    "result_table.append([\"Collection\"] + queries)\n",
    "\n",
    "for collection in collections:\n",
    "    row = []\n",
    "    for query in queries:\n",
    "        print(f\"Searching {collection} for {query}\")\n",
    "        search_results = search(collection, query)\n",
    "\n",
    "        row.append(\"\\n\".join([f\"{document.metadata['index']} - {score}\" for document, score in search_results]))\n",
    "\n",
    "    result_table.append([collection] + row)"
   ]
  },
  {
   "cell_type": "code",
   "execution_count": null,
   "metadata": {
    "dotnet_interactive": {
     "language": "csharp"
    },
    "polyglot_notebook": {
     "kernelName": "csharp"
    }
   },
   "outputs": [],
   "source": [
    "from tabulate import tabulate\n",
    "\n",
    "print(tabulate(result_table, tablefmt=\"grid\", headers=\"firstrow\"))"
   ]
  },
  {
   "cell_type": "markdown",
   "metadata": {},
   "source": [
    "# To check a result, put the index in the following cell and run it"
   ]
  },
  {
   "cell_type": "code",
   "execution_count": null,
   "metadata": {
    "dotnet_interactive": {
     "language": "csharp"
    },
    "polyglot_notebook": {
     "kernelName": "csharp"
    }
   },
   "outputs": [],
   "source": [
    "found_index = 31\n",
    "\n",
    "# find the document with the metadata index of the found_index variable\n",
    "\n",
    "found_document = None\n",
    "for doc in split_documents:\n",
    "    if doc.metadata[\"index\"] == found_index:\n",
    "        found_document = doc\n",
    "        break\n",
    "\n",
    "print(f'{found_document.page_content}\\n\\n')\n",
    "print(f'{found_document.metadata}\\n\\n')\n",
    "\n",
    "for doc in question_documents:\n",
    "    if doc.metadata[\"index\"] == found_index:\n",
    "        found_document = doc\n",
    "        break\n",
    "\n",
    "print(f\"Questions: {found_document.page_content}\\n\\n\")\n",
    "\n",
    "for doc in answer_documents:\n",
    "    if doc.metadata[\"index\"] == found_index:\n",
    "        found_document = doc\n",
    "        break\n",
    "\n",
    "print(f\"Answers: {found_document.page_content}\\n\\n\")\n",
    "\n",
    "for doc in summary_documents:\n",
    "    if doc.metadata[\"index\"] == found_index:\n",
    "        found_document = doc\n",
    "        break\n",
    "\n",
    "print(f\"Summary: {found_document.page_content}\\n\\n\")\n"
   ]
  },
  {
   "cell_type": "markdown",
   "metadata": {},
   "source": [
    "# RAG (Teaser)"
   ]
  },
  {
   "cell_type": "code",
   "execution_count": null,
   "metadata": {
    "dotnet_interactive": {
     "language": "csharp"
    },
    "polyglot_notebook": {
     "kernelName": "csharp"
    }
   },
   "outputs": [],
   "source": [
    "from langchain.prompts import ChatPromptTemplate\n",
    "from langchain.chat_models import ChatOpenAI\n",
    "from langchain.schema.output_parser import StrOutputParser\n",
    "\n",
    "# Document\n",
    "found_index = 31\n",
    "found_document = None\n",
    "for doc in split_documents:\n",
    "    if doc.metadata[\"index\"] == found_index:\n",
    "        found_document = doc\n",
    "        break\n",
    "\n",
    "query = \"Nach wie vielen Jahren kann ich mein Notebook erneuern?\"\n",
    "\n",
    "# Prompt\n",
    "template = f\"\"\"Beantworte die Frage nur aufgrund der folgenenden Informationen:\n",
    "{found_document.page_content}\n",
    "\n",
    "Frage: {query}\n",
    "\"\"\"\n",
    "\n",
    "# RAG chain\n",
    "chain = (\n",
    "    ChatPromptTemplate.from_template(template)\n",
    "    | ChatOpenAI(model_name = 'gpt-4-1106-preview')\n",
    "    | StrOutputParser()\n",
    ")\n",
    "\n",
    "chain.invoke(query)"
   ]
  }
 ],
 "metadata": {
  "kernelspec": {
   "display_name": "Python 3",
   "language": "python",
   "name": "python3"
  },
  "language_info": {
   "codemirror_mode": {
    "name": "ipython",
    "version": 3
   },
   "file_extension": ".py",
   "mimetype": "text/x-python",
   "name": "python",
   "nbconvert_exporter": "python",
   "pygments_lexer": "ipython3",
   "version": "3.9.5"
  },
  "orig_nbformat": 4,
  "polyglot_notebook": {
   "kernelInfo": {
    "defaultKernelName": "csharp",
    "items": [
     {
      "aliases": [],
      "name": "csharp"
     }
    ]
   }
  }
 },
 "nbformat": 4,
 "nbformat_minor": 2
}
