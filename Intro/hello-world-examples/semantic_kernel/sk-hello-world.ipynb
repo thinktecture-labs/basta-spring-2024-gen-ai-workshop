{
 "cells": [
  {
   "cell_type": "markdown",
   "metadata": {},
   "source": [
    "# Semantic Kernel .NET Hello World\n",
    "\n",
    "This is a .NET Interactive Jupyter notebook. You need the Jupyter notebook extension and Polyglot notebooks installed in VS code.\n",
    "\n"
   ]
  },
  {
   "cell_type": "code",
   "execution_count": null,
   "metadata": {
    "dotnet_interactive": {
     "language": "csharp"
    },
    "polyglot_notebook": {
     "kernelName": "csharp"
    },
    "vscode": {
     "languageId": "polyglot-notebook"
    }
   },
   "outputs": [],
   "source": [
    "// Install the SK package from NuGet\n",
    "#r \"nuget: Microsoft.SemanticKernel, 1.1.0\""
   ]
  },
  {
   "cell_type": "code",
   "execution_count": null,
   "metadata": {
    "dotnet_interactive": {
     "language": "csharp"
    },
    "polyglot_notebook": {
     "kernelName": "csharp"
    },
    "vscode": {
     "languageId": "polyglot-notebook"
    }
   },
   "outputs": [],
   "source": [
    "// Read API Key from file\n",
    "var openAiApiKey = System.IO.File.ReadAllText(\"openaiapikey.txt\");\n",
    "if (String.IsNullOrWhiteSpace(openAiApiKey))\n",
    "    throw new Exception(\"Please add your OpenAI API key to the 'openaiapikey.txt' file.\");"
   ]
  },
  {
   "cell_type": "markdown",
   "metadata": {},
   "source": [
    "## Create and use our first Kernel"
   ]
  },
  {
   "cell_type": "code",
   "execution_count": null,
   "metadata": {
    "dotnet_interactive": {
     "language": "csharp"
    },
    "polyglot_notebook": {
     "kernelName": "csharp"
    },
    "vscode": {
     "languageId": "polyglot-notebook"
    }
   },
   "outputs": [],
   "source": [
    "using Microsoft.SemanticKernel;\n",
    "\n",
    "var kernel = Kernel.CreateBuilder()\n",
    "    .AddOpenAIChatCompletion(modelId: \"gpt-4\", apiKey: openAiApiKey)\n",
    "    .Build();"
   ]
  },
  {
   "cell_type": "markdown",
   "metadata": {},
   "source": [
    "### Ask our Kernel"
   ]
  },
  {
   "cell_type": "code",
   "execution_count": null,
   "metadata": {
    "dotnet_interactive": {
     "language": "csharp"
    },
    "polyglot_notebook": {
     "kernelName": "csharp"
    },
    "vscode": {
     "languageId": "polyglot-notebook"
    }
   },
   "outputs": [],
   "source": [
    "var prompt = \"You are an AI example shown at the BASTA 2024 spring conference. Please greet the audience.\";\n",
    "var response = await kernel.InvokePromptAsync(prompt);\n",
    "\n",
    "Console.WriteLine(response);"
   ]
  }
 ],
 "metadata": {
  "kernelspec": {
   "display_name": "Python 3",
   "language": "python",
   "name": "python3"
  },
  "language_info": {
   "name": "python",
   "version": "3.11.7"
  },
  "polyglot_notebook": {
   "kernelInfo": {
    "defaultKernelName": "csharp",
    "items": [
     {
      "aliases": [],
      "name": "csharp"
     }
    ]
   }
  }
 },
 "nbformat": 4,
 "nbformat_minor": 2
}
