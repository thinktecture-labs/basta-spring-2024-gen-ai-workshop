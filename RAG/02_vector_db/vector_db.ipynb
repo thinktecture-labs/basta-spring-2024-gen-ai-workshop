{
 "cells": [
  {
   "cell_type": "markdown",
   "metadata": {},
   "source": [
    "# Vector DB Sample"
   ]
  },
  {
   "cell_type": "code",
   "execution_count": null,
   "metadata": {},
   "outputs": [],
   "source": [
    "from langchain.embeddings.sentence_transformer import SentenceTransformerEmbeddings\n",
    "from langchain.vectorstores import Chroma\n",
    "\n",
    "# prepare the embedding model\n",
    "embedding_function = SentenceTransformerEmbeddings(model_name = 'intfloat/multilingual-e5-large')\n",
    "\n",
    "# prepare the vector db\n",
    "db = Chroma(embedding_function = embedding_function, persist_directory = './chromadb/')"
   ]
  },
  {
   "cell_type": "code",
   "execution_count": null,
   "metadata": {},
   "outputs": [],
   "source": [
    "# prepare the data and load it to the db\n",
    "\n",
    "texts = [\n",
    "    'Die Sonne erzeugt ihre Energie durch Kernfusion. In ihrem Kern verschmelzen Wasserstoffatome unter extremem Druck und bei sehr hohen Temperaturen zu Helium. Dieser Prozess setzt enorme Mengen an Energie frei, die als Licht und Wärme zur Erde gelangen.',\n",
    "    'Die Sonne ist ein Stern von enormer Größe und Masse. Sie hat einen Durchmesser von etwa 1,4 Millionen Kilometern, was ungefähr dem 109-fachen des Erddurchmessers entspricht. Die Masse der Sonne macht etwa 99,86% der gesamten Masse des Sonnensystems aus.',\n",
    "    'Die Sonne durchläuft einen etwa 11-jährigen Aktivitätszyklus, der durch die Anzahl und Verteilung von Sonnenflecken gemessen wird. Diese Zyklen variieren in Intensität und können Einfluss auf das Raumwetter und die Kommunikationstechnologie auf der Erde haben.',\n",
    "    'Die Sonne besteht hauptsächlich aus Wasserstoff (etwa 75% ihrer Masse) und Helium (etwa 24% ihrer Masse). Die restlichen 1% enthalten schwerere Elemente wie Sauerstoff, Kohlenstoff, Neon und Eisen.',\n",
    "    'Die Sonne stößt kontinuierlich einen Strom geladener Teilchen aus, der als Sonnenwind bekannt ist. Dieser Wind reist durch das Sonnensystem und interagiert mit Planetenmagnetfeldern und Atmosphären, was unter anderem zur Ausbildung von Polarlichtern führen kann.',\n",
    "    'Die Temperatur der Sonne variiert je nach Schicht. Im Kern der Sonne, wo die Kernfusion stattfindet, erreichen die Temperaturen etwa 15 Millionen Grad Celsius (27 Millionen Grad Fahrenheit). Dies ist unvergleichlich heißer als übliche Prozesse und Zustände, die wir auf der Erde erleben. An der sichtbaren Oberfläche der Sonne, der Photosphäre, liegt die Temperatur bei ungefähr 5.500 Grad Celsius (etwa 9.932 Grad Fahrenheit). Die Temperatur steigt wieder in der Sonnenatmosphäre, speziell in der Korona, wo sie Millionen von Grad erreichen kann. Diese extrem heißen Temperaturen sind paradox, weil man erwarten würde, dass die Temperatur von der Wärmequelle weg abnimmt. Dieses Phänomen, bekannt als das Koronaheizungsproblem, ist immer noch Gegenstand intensiver Forschung und Debatten in der Astrophysik.',\n",
    "]\n",
    "\n",
    "db.add_texts(texts)"
   ]
  },
  {
   "cell_type": "code",
   "execution_count": null,
   "metadata": {},
   "outputs": [],
   "source": [
    "# query\n",
    "\n",
    "query = 'Wie groß ist die Sonne?'\n",
    "# query = 'Wie heiss ist die Sonne?'\n",
    "\n",
    "results = db.similarity_search_with_score(query)\n",
    "\n",
    "for result in results:\n",
    "    print(f'Score: {result[1]}')\n",
    "    print(f'Text:\\n{result[0].page_content}\\n\\n')"
   ]
  }
 ],
 "metadata": {
  "kernelspec": {
   "display_name": "02-vector-db",
   "language": "python",
   "name": "python3"
  },
  "language_info": {
   "codemirror_mode": {
    "name": "ipython",
    "version": 3
   },
   "file_extension": ".py",
   "mimetype": "text/x-python",
   "name": "python",
   "nbconvert_exporter": "python",
   "pygments_lexer": "ipython3",
   "version": "3.9.5"
  }
 },
 "nbformat": 4,
 "nbformat_minor": 2
}
